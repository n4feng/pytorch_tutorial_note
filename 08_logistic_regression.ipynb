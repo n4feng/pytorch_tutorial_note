{
 "cells": [
  {
   "cell_type": "code",
   "execution_count": 88,
   "metadata": {},
   "outputs": [],
   "source": [
    "import torch\n",
    "import torch.nn as nn\n",
    "import numpy as np\n",
    "from sklearn import datasets as ds\n",
    "from sklearn.preprocessing import StandardScaler\n",
    "from sklearn.model_selection import train_test_split\n"
   ]
  },
  {
   "cell_type": "code",
   "execution_count": 89,
   "metadata": {},
   "outputs": [
    {
     "name": "stdout",
     "output_type": "stream",
     "text": [
      "569 30\n"
     ]
    }
   ],
   "source": [
    "# 0) prepare data\n",
    "bc = ds.load_breast_cancer()\n",
    "X,Y = bc.data, bc.target\n",
    "\n",
    "n_samples, n_features = X.shape\n",
    "print(n_samples, n_features)"
   ]
  },
  {
   "cell_type": "code",
   "execution_count": 90,
   "metadata": {},
   "outputs": [],
   "source": [
    "X_train, X_test, Y_train, Y_test = train_test_split(X,Y, test_size=0.2, random_state=1234)"
   ]
  },
  {
   "cell_type": "code",
   "execution_count": 91,
   "metadata": {},
   "outputs": [
    {
     "name": "stdout",
     "output_type": "stream",
     "text": [
      "[1.288e+01 1.822e+01 8.445e+01 4.931e+02 1.218e-01 1.661e-01 4.825e-02\n",
      " 5.303e-02 1.709e-01 7.253e-02 4.426e-01 1.169e+00 3.176e+00 3.437e+01\n",
      " 5.273e-03 2.329e-02 1.405e-02 1.244e-02 1.816e-02 3.299e-03 1.505e+01\n",
      " 2.437e+01 9.931e+01 6.747e+02 1.456e-01 2.961e-01 1.246e-01 1.096e-01\n",
      " 2.582e-01 8.893e-02]\n",
      "after fit\n",
      "[-0.36180827 -0.26521011 -0.31715702 -0.46713841  1.80382609  1.18174184\n",
      " -0.51689239  0.10653677 -0.39005152  1.39140136  0.14370971 -0.12075458\n",
      "  0.16013008 -0.13255126 -0.58631633 -0.12476339 -0.57865272  0.10906824\n",
      " -0.28187354 -0.1889237  -0.25710149 -0.24033176 -0.2441722  -0.36688232\n",
      "  0.5448709   0.24812607 -0.71088618 -0.07967528 -0.52798733  0.2506337 ]\n"
     ]
    }
   ],
   "source": [
    "# scale, make feature has 0 means\n",
    "sc = StandardScaler()\n",
    "print(X_train[0])\n",
    "X_train = sc.fit_transform(X_train)\n",
    "X_test = sc.transform(X_test)\n",
    "print('after fit')\n",
    "print(X_train[0])\n",
    "\n",
    "X_train = torch.from_numpy(X_train.astype(np.float32))\n",
    "X_test = torch.from_numpy(X_test.astype(np.float32))\n",
    "Y_train = torch.from_numpy(Y_train.astype(np.float32))\n",
    "Y_test = torch.from_numpy(Y_test.astype(np.float32))\n",
    "\n",
    "#shape y from horiz to vertical\n",
    "Y_train = Y_train.view(Y_train.shape[0],1)\n",
    "Y_test = Y_test.view(Y_test.shape[0],1)"
   ]
  },
  {
   "cell_type": "code",
   "execution_count": 65,
   "metadata": {},
   "outputs": [],
   "source": [
    "# 1) model\n",
    "# f = wx+b, sigmoid at the end\n",
    "\n",
    "class LogisticRegression(nn.Module):    \n",
    "    def __init__(self, n_input_features):\n",
    "        super(LogisticRegression, self).__init__()\n",
    "        self.linear = nn.Linear(n_input_features, 1)\n",
    "        \n",
    "    def forward(self, x):\n",
    "        y_predicted = torch.sigmoid(self.linear(x))\n",
    "        return y_predicted\n",
    "        \n",
    "model = LogisticRegression(n_features)\n"
   ]
  },
  {
   "cell_type": "code",
   "execution_count": 66,
   "metadata": {},
   "outputs": [],
   "source": [
    "# 2) loss and optimizer\n",
    "#Binary Cross Entropy loss ln = -wn[yn * log(xn) + (1-yn)*log(1-xn)]\n",
    "learning_rate = 0.02\n",
    "criterion = nn.BCELoss() \n",
    "optimizer = torch.optim.SGD(model.parameters(), lr=learning_rate)"
   ]
  },
  {
   "cell_type": "code",
   "execution_count": 69,
   "metadata": {},
   "outputs": [
    {
     "name": "stdout",
     "output_type": "stream",
     "text": [
      "epoch: 10, loss = 0.2442\n",
      "epoch: 20, loss = 0.2441\n",
      "epoch: 30, loss = 0.2438\n",
      "epoch: 40, loss = 0.2433\n",
      "epoch: 50, loss = 0.2426\n",
      "epoch: 60, loss = 0.2420\n",
      "epoch: 70, loss = 0.2416\n",
      "epoch: 80, loss = 0.2412\n",
      "epoch: 90, loss = 0.2410\n",
      "epoch: 100, loss = 0.2409\n"
     ]
    }
   ],
   "source": [
    "# 3) training\n",
    "num_epochs = 100\n",
    "for epoch in range(num_epochs):\n",
    "    # forward pass and loss\n",
    "    y_predicted = model(X_train)\n",
    "    loss = criterion(y_predicted, Y_train)\n",
    "    \n",
    "    # backward pass\n",
    "    loss.backward()\n",
    "    \n",
    "    #updates\n",
    "    optimizer.step()\n",
    "    \n",
    "    #zero gradients\n",
    "    optimizer.zero_grad\n",
    "    \n",
    "    if(epoch+1) % 10 == 0:\n",
    "        print(f'epoch: {epoch+1}, loss = {loss.item():.4f}')\n",
    "    "
   ]
  },
  {
   "cell_type": "code",
   "execution_count": 72,
   "metadata": {},
   "outputs": [
    {
     "name": "stdout",
     "output_type": "stream",
     "text": [
      "accuracy = 0.9474\n"
     ]
    }
   ],
   "source": [
    "with torch.no_grad():\n",
    "    y_predicted = model(X_test)\n",
    "    y_predicted_cls = y_predicted.round()\n",
    "    acc = y_predicted_cls.eq(Y_test).sum() / float(Y_test.shape[0])\n",
    "    print(f'accuracy = {acc:.4f}')"
   ]
  },
  {
   "cell_type": "code",
   "execution_count": null,
   "metadata": {},
   "outputs": [],
   "source": []
  }
 ],
 "metadata": {
  "kernelspec": {
   "display_name": "Python 3",
   "language": "python",
   "name": "python3"
  },
  "language_info": {
   "codemirror_mode": {
    "name": "ipython",
    "version": 3
   },
   "file_extension": ".py",
   "mimetype": "text/x-python",
   "name": "python",
   "nbconvert_exporter": "python",
   "pygments_lexer": "ipython3",
   "version": "3.8.5"
  }
 },
 "nbformat": 4,
 "nbformat_minor": 4
}
